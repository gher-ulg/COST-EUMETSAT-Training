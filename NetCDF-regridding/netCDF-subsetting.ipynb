{
 "cells": [
  {
   "cell_type": "markdown",
   "metadata": {
    "slideshow": {
     "slide_type": "slide"
    }
   },
   "source": [
    "This short notebook (in `bash`!) provides an example of how to take a subset of an existing field stored in a netCDF file using `nco` tools."
   ]
  },
  {
   "cell_type": "markdown",
   "metadata": {
    "slideshow": {
     "slide_type": "subslide"
    }
   },
   "source": [
    "# Data file\n",
    "Let's work on the file `regrid_input.nc` located in the `data` directory.     \n",
    "The results will be written in an `output` directory."
   ]
  },
  {
   "cell_type": "code",
   "execution_count": 14,
   "metadata": {
    "slideshow": {
     "slide_type": "fragment"
    }
   },
   "outputs": [],
   "source": [
    "datafile=\"./data/regrid_input.nc\"\n",
    "mkdir -pv output"
   ]
  },
  {
   "cell_type": "markdown",
   "metadata": {
    "slideshow": {
     "slide_type": "slide"
    }
   },
   "source": [
    "# Domain\n",
    "Let's define the bounding box corresponding to a sub-region of the Mediterranean Sea, here the Adriatic Sea."
   ]
  },
  {
   "cell_type": "code",
   "execution_count": 15,
   "metadata": {
    "collapsed": true,
    "slideshow": {
     "slide_type": "fragment"
    }
   },
   "outputs": [],
   "source": [
    "declare -x lonmin=11.7\n",
    "declare -x lonmax=20.\n",
    "declare -x latmin=40.\n",
    "declare -x latmax=46."
   ]
  },
  {
   "cell_type": "markdown",
   "metadata": {
    "slideshow": {
     "slide_type": "slide"
    }
   },
   "source": [
    "# Perform the subsetting\n",
    "Take into account the dimension names     \n",
    "(x for longitude, y for latitude)"
   ]
  },
  {
   "cell_type": "code",
   "execution_count": 20,
   "metadata": {
    "slideshow": {
     "slide_type": "fragment"
    }
   },
   "outputs": [],
   "source": [
    "ncea -d y,${latmin},${latmax} -d x,${lonmin},${lonmax} ${datafile} ./output/adriatic.nc"
   ]
  },
  {
   "cell_type": "markdown",
   "metadata": {
    "slideshow": {
     "slide_type": "slide"
    }
   },
   "source": [
    "# Check the results \n",
    "Note the history in the global attributes."
   ]
  },
  {
   "cell_type": "code",
   "execution_count": 21,
   "metadata": {
    "slideshow": {
     "slide_type": "fragment"
    }
   },
   "outputs": [
    {
     "name": "stdout",
     "output_type": "stream",
     "text": [
      "netcdf adriatic {\n",
      "dimensions:\n",
      "\ty = 61 ;\n",
      "\tx = 84 ;\n",
      "variables:\n",
      "\tfloat y(y) ;\n",
      "\t\ty:units = \"Degrees_north\" ;\n",
      "\tfloat x(x) ;\n",
      "\t\tx:units = \"Degrees_east\" ;\n",
      "\tfloat analyzed_field(y, x) ;\n",
      "\t\tanalyzed_field:valid_min = -0.1272285f ;\n",
      "\t\tanalyzed_field:valid_max = 0.2751506f ;\n",
      "\t\tanalyzed_field:missing_value = -99.f ;\n",
      "\tfloat error_field(y, x) ;\n",
      "\t\terror_field:valid_min = 0.02646543f ;\n",
      "\t\terror_field:valid_max = 1.f ;\n",
      "\t\terror_field:missing_value = -99.f ;\n",
      "\n",
      "// global attributes:\n",
      "\t\t:history = \"Tue Jan  2 12:19:30 2018: ncea -d y,40.,46. -d x,11.7,20. ./data/regrid_input.nc ./output/adriatic.nc\" ;\n",
      "\t\t:NCO = \"4.6.9\" ;\n",
      "\t\t:nco_openmp_thread_number = 1 ;\n",
      "}\n"
     ]
    }
   ],
   "source": [
    "ncdump -h output/adriatic.nc"
   ]
  }
 ],
 "metadata": {
  "celltoolbar": "Slideshow",
  "kernelspec": {
   "display_name": "Bash",
   "language": "bash",
   "name": "bash"
  },
  "language_info": {
   "codemirror_mode": "shell",
   "file_extension": ".sh",
   "mimetype": "text/x-sh",
   "name": "bash"
  }
 },
 "nbformat": 4,
 "nbformat_minor": 2
}
