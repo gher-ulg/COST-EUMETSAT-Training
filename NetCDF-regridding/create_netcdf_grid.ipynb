{
 "cells": [
  {
   "cell_type": "markdown",
   "metadata": {},
   "source": [
    "A simple example of how to create a grid in netCDF that can be used for regridding."
   ]
  },
  {
   "cell_type": "code",
   "execution_count": 1,
   "metadata": {
    "collapsed": true
   },
   "outputs": [],
   "source": [
    "import os\n",
    "import numpy as np\n",
    "import netCDF4"
   ]
  },
  {
   "cell_type": "markdown",
   "metadata": {},
   "source": [
    "# Define new grid"
   ]
  },
  {
   "cell_type": "code",
   "execution_count": 2,
   "metadata": {
    "collapsed": true
   },
   "outputs": [],
   "source": [
    "lonnew = np.arange(-5.5, 37.0001, 0.025)\n",
    "latnew = np.arange(30., 46.0001, 0.025)"
   ]
  },
  {
   "cell_type": "markdown",
   "metadata": {},
   "source": [
    "# Create a new netCDF with the grid"
   ]
  },
  {
   "cell_type": "code",
   "execution_count": 3,
   "metadata": {
    "collapsed": true
   },
   "outputs": [],
   "source": [
    "def create_grid(filename, newlon, newlat):\n",
    "    \n",
    "    with netCDF4.Dataset(filename, \"w\") as nc:\n",
    "        lon = nc.createDimension(\"longitude\", len(newlon))\n",
    "        lat = nc.createDimension(\"latitude\", len(newlat))\n",
    "        longitudes = nc.createVariable(\"longitude\", \"f4\", (\"longitude\",))\n",
    "        latitudes = nc.createVariable(\"latitude\", \"f4\", (\"latitude\",))\n",
    "        latitudes.units = \"degrees north\"\n",
    "        longitudes.units = \"degrees east\"\n",
    "        longitudes[:] = newlon\n",
    "        latitudes[:] = newlat"
   ]
  },
  {
   "cell_type": "code",
   "execution_count": 6,
   "metadata": {
    "collapsed": true
   },
   "outputs": [],
   "source": [
    "create_grid(\"data/newgridfine.nc\", lonnew, latnew)"
   ]
  },
  {
   "cell_type": "code",
   "execution_count": 5,
   "metadata": {
    "collapsed": true
   },
   "outputs": [],
   "source": [
    "create_grid(\"data/new_baltic_grid.nc\", np.arange(9., 32., 1.), np.arange(53., 67., 1))"
   ]
  },
  {
   "cell_type": "code",
   "execution_count": null,
   "metadata": {
    "collapsed": true
   },
   "outputs": [],
   "source": []
  }
 ],
 "metadata": {
  "kernelspec": {
   "display_name": "Diva-python3.6",
   "language": "python",
   "name": "diva-python3.6"
  },
  "language_info": {
   "codemirror_mode": {
    "name": "ipython",
    "version": 3
   },
   "file_extension": ".py",
   "mimetype": "text/x-python",
   "name": "python",
   "nbconvert_exporter": "python",
   "pygments_lexer": "ipython3",
   "version": "3.6.0"
  }
 },
 "nbformat": 4,
 "nbformat_minor": 2
}
